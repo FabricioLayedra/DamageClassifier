{
 "cells": [
  {
   "cell_type": "code",
   "execution_count": 21,
   "metadata": {},
   "outputs": [],
   "source": [
    "import pandas as pd\n",
    "import geopy.distance\n",
    "import matplotlib.pyplot as plt\n",
    "import seaborn as sns"
   ]
  },
  {
   "cell_type": "code",
   "execution_count": 22,
   "metadata": {},
   "outputs": [],
   "source": [
    "def distance_from_coords(row):\n",
    "    \n",
    "    slat = row[\"LatitudCliente\"]\n",
    "    slon = row[\"LongitudCliente\"]\n",
    "    elat = row[\"LatitudEvento\"]\n",
    "    elon = row[\"LongitudEvento\"]\n",
    "    coords1 = (slat,slon)\n",
    "    coords2 = (elat,elon)\n",
    "    \n",
    "    #dist = 6371.01 * acos(sin(slat)*sin(elat) + cos(slat)*cos(elat)*cos(slon - elon))\n",
    "    return geopy.distance.geodesic(coords1,coords2).km"
   ]
  },
  {
   "cell_type": "code",
   "execution_count": 23,
   "metadata": {},
   "outputs": [
    {
     "data": {
      "text/plain": [
       "(1503111, 21)"
      ]
     },
     "execution_count": 23,
     "metadata": {},
     "output_type": "execute_result"
    }
   ],
   "source": [
    "df_eventos = pd.read_csv(\"../../eventos.csv\", encoding = \"ISO-8859-1\", parse_dates=['FechaEvento'], infer_datetime_format=True)\n",
    "#here replace date as you wish\n",
    "df_eventos_abril = df_eventos[(df_eventos[\"FechaEvento\"] == pd.datetime(2016,4,17)) ]\n",
    "df_eventos.shape"
   ]
  },
  {
   "cell_type": "code",
   "execution_count": 24,
   "metadata": {},
   "outputs": [
    {
     "name": "stderr",
     "output_type": "stream",
     "text": [
      "/usr/local/lib/python3.6/dist-packages/ipykernel_launcher.py:2: SettingWithCopyWarning: \n",
      "A value is trying to be set on a copy of a slice from a DataFrame.\n",
      "Try using .loc[row_indexer,col_indexer] = value instead\n",
      "\n",
      "See the caveats in the documentation: http://pandas.pydata.org/pandas-docs/stable/indexing.html#indexing-view-versus-copy\n",
      "  \n"
     ]
    },
    {
     "data": {
      "text/plain": [
       "423851    280.396885\n",
       "423852    229.177272\n",
       "423853    276.765190\n",
       "423854    267.380688\n",
       "423855    300.569004\n",
       "423856    282.877821\n",
       "423857    286.366085\n",
       "423858    272.501382\n",
       "423859    281.009097\n",
       "423860    244.865690\n",
       "423861    297.918631\n",
       "423862    282.381155\n",
       "423863    279.182756\n",
       "423864    272.009047\n",
       "423865    280.387401\n",
       "423866    306.267208\n",
       "423867    291.388109\n",
       "423868    284.770129\n",
       "423869    284.774895\n",
       "423870    250.118315\n",
       "423871    288.263311\n",
       "423872    274.404130\n",
       "423873    308.521005\n",
       "423874    246.661686\n",
       "423875    299.673769\n",
       "423876    293.590994\n",
       "423877    287.219894\n",
       "423878    253.104928\n",
       "423879    276.881601\n",
       "423880    283.846544\n",
       "             ...    \n",
       "562044    174.020670\n",
       "562045    237.925950\n",
       "562046    178.710040\n",
       "562047    210.522049\n",
       "562048    243.496380\n",
       "562049    259.434197\n",
       "562050    257.428449\n",
       "562051    204.358914\n",
       "562052    179.236367\n",
       "562053    179.025085\n",
       "562054    242.006448\n",
       "562055    196.128032\n",
       "562056    233.011040\n",
       "562057    215.504662\n",
       "562058    244.808664\n",
       "562059    229.488605\n",
       "562060    228.843270\n",
       "562061    228.549886\n",
       "562062    193.263480\n",
       "562063    241.668662\n",
       "562064    176.228788\n",
       "562065    223.657707\n",
       "562066    508.967749\n",
       "562067    391.751635\n",
       "562068    351.844945\n",
       "562069    404.891018\n",
       "562070    350.869894\n",
       "562071    397.639811\n",
       "562072    383.569471\n",
       "562073    404.145306\n",
       "Name: Distancia, Length: 138223, dtype: float64"
      ]
     },
     "execution_count": 24,
     "metadata": {},
     "output_type": "execute_result"
    }
   ],
   "source": [
    "\n",
    "df_eventos_abril[\"Distancia\"] = df_eventos_abril.apply(lambda row: distance_from_coords(row),axis=1)\n",
    "df_eventos_abril[\"Distancia\"]"
   ]
  },
  {
   "cell_type": "code",
   "execution_count": 25,
   "metadata": {},
   "outputs": [
    {
     "data": {
      "text/plain": [
       "<matplotlib.axes._subplots.AxesSubplot at 0x7f7b9c70a278>"
      ]
     },
     "execution_count": 25,
     "metadata": {},
     "output_type": "execute_result"
    },
    {
     "data": {
      "image/png": "[encoded data removed]",
      "text/plain": [
       "<matplotlib.figure.Figure at 0x7f7b9c724c18>"
      ]
     },
     "metadata": {
      "needs_background": "light"
     },
     "output_type": "display_data"
    }
   ],
   "source": [
    "sns.distplot(df_eventos_abril['Distancia'], hist=True, kde=True, \n",
    "             bins=int(18), color = 'darkblue', \n",
    "             hist_kws={'edgecolor':'black'},\n",
    "             kde_kws={'linewidth': 4})"
   ]
  },
  {
   "cell_type": "code",
   "execution_count": 26,
   "metadata": {},
   "outputs": [],
   "source": [
    "df_eventos_abril.shape\n",
    "df_eventos_abril.describe()\n",
    "df_eventos_abril.loc[df_eventos_abril[\"Distancia\"]>2000,\"Distancia\"] = 12345678910\n",
    "#here replace file name as you wish\n",
    "df_eventos_abril.to_csv(\"distancias_20160417.csv\", sep=',', index=False) #when executing get_edges.py, check column index, for example, date=fields[2] or fields[3]"
   ]
  },
  {
   "cell_type": "code",
   "execution_count": 27,
   "metadata": {},
   "outputs": [
    {
     "data": {
      "text/plain": [
       "(1743, 2)"
      ]
     },
     "execution_count": 27,
     "metadata": {},
     "output_type": "execute_result"
    }
   ],
   "source": [
    "clientes = df_eventos_abril[\"GeoIdCliente\"].rename(columns={\"GeoIdCliente\":\"TorreId\"})\n",
    "eventos = df_eventos_abril[\"GeoIdEvento\"].rename(columns={\"GeoIdEvento\":\"TorreId\"})\n",
    "torres = pd.concat([clientes,eventos])\n",
    "torres = torres.drop_duplicates().reset_index()\n",
    "torres.shape"
   ]
  },
  {
   "cell_type": "code",
   "execution_count": 28,
   "metadata": {},
   "outputs": [
    {
     "data": {
      "text/plain": [
       "(109, 2)"
      ]
     },
     "execution_count": 28,
     "metadata": {},
     "output_type": "execute_result"
    }
   ],
   "source": [
    "df_16 = df_eventos[(df_eventos[\"FechaEvento\"] == pd.datetime(2016,4,16)) ]\n",
    "df_16 = df_16.groupby(by=\"Hora\").sum\n",
    "eventos_unicos = eventos.drop_duplicates().reset_index()\n",
    "eventos_unicos.shape"
   ]
  },
  {
   "cell_type": "code",
   "execution_count": 34,
   "metadata": {},
   "outputs": [
    {
     "data": {
      "text/plain": [
       "['FechaEvento',\n",
       " 'Hora',\n",
       " 'ProvinciaCliente',\n",
       " 'CantonCliente',\n",
       " 'CiudadCliente',\n",
       " 'ParroquiaCliente',\n",
       " 'LatitudCliente',\n",
       " 'LongitudCliente',\n",
       " 'NombreSitioEvento',\n",
       " 'ProvinciaEvento',\n",
       " 'CantonEvento',\n",
       " 'CiudadEvento',\n",
       " 'ParroquiaEvento',\n",
       " 'LatitudEvento',\n",
       " 'LongitudEvento',\n",
       " 'ID',\n",
       " 'BaseCliente',\n",
       " 'BaseEvento',\n",
       " 'CantidadClientes',\n",
       " 'GeoIdCliente',\n",
       " 'GeoIdEvento',\n",
       " 'Distancia']"
      ]
     },
     "execution_count": 34,
     "metadata": {},
     "output_type": "execute_result"
    }
   ],
   "source": [
    "#obtain list of column names\n",
    "list(df_eventos_abril)\n"
   ]
  },
  {
   "cell_type": "code",
   "execution_count": null,
   "metadata": {},
   "outputs": [],
   "source": []
  }
 ],
 "metadata": {
  "kernelspec": {
   "display_name": "Python 3",
   "language": "python",
   "name": "python3"
  },
  "language_info": {
   "codemirror_mode": {
    "name": "ipython",
    "version": 3
   },
   "file_extension": ".py",
   "mimetype": "text/x-python",
   "name": "python",
   "nbconvert_exporter": "python",
   "pygments_lexer": "ipython3",
   "version": "3.6.7"
  }
 },
 "nbformat": 4,
 "nbformat_minor": 2
}
