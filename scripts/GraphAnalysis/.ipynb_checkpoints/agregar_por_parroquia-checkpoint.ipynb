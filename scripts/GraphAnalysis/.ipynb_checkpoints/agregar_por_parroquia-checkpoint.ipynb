{
 "cells": [
  {
   "cell_type": "code",
   "execution_count": null,
   "metadata": {},
   "outputs": [],
   "source": [
    "import pandas as pd"
   ]
  },
  {
   "cell_type": "code",
   "execution_count": null,
   "metadata": {},
   "outputs": [],
   "source": [
    "df_eventos = pd.read_csv(\"../../data/eventos.csv\", encoding = \"ISO-8859-1\")"
   ]
  },
  {
   "cell_type": "code",
   "execution_count": null,
   "metadata": {},
   "outputs": [],
   "source": [
    "#Get a dataframe of only GeoIds and Parroquias\n",
    "df_parroquias = df_eventos[[\"GeoIdEvento\",\"ParroquiaEvento\",\"ParroquiaCliente\",\"GeoIdCliente\"]]\n",
    "parroquias_evento = df_parroquias[[\"GeoIdEvento\",\"ParroquiaEvento\"]].drop_duplicates().reset_index()\n",
    "parroquias_cliente = df_parroquias[[\"ParroquiaCliente\",\"GeoIdCliente\"]].drop_duplicates().reset_index()\n",
    "parroquias = pd.concat([parroquias_evento,parroquias_cliente])\n",
    "parroquias = parroquias.drop_duplicates().reset_index()"
   ]
  },
  {
   "cell_type": "code",
   "execution_count": null,
   "metadata": {},
   "outputs": [],
   "source": [
    "df_indegrees = pd.read_csv()"
   ]
  }
 ],
 "metadata": {
  "kernelspec": {
   "display_name": "Python 3",
   "language": "python",
   "name": "python3"
  },
  "language_info": {
   "codemirror_mode": {
    "name": "ipython",
    "version": 3
   },
   "file_extension": ".py",
   "mimetype": "text/x-python",
   "name": "python",
   "nbconvert_exporter": "python",
   "pygments_lexer": "ipython3",
   "version": "3.6.7"
  }
 },
 "nbformat": 4,
 "nbformat_minor": 2
}
