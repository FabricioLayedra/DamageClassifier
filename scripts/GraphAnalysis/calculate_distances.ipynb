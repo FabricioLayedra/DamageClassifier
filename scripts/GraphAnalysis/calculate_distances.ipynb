{
 "cells": [
  {
   "cell_type": "code",
   "execution_count": 10,
   "metadata": {},
   "outputs": [],
   "source": [
    "import pandas as pd\n",
    "import geopy.distance\n",
    "import matplotlib.pyplot as plt\n",
    "import seaborn as sns"
   ]
  },
  {
   "cell_type": "code",
   "execution_count": 11,
   "metadata": {},
   "outputs": [],
   "source": [
    "def distance_from_coords(row):\n",
    "    \n",
    "    slat = row[\"LatitudCliente\"]\n",
    "    slon = row[\"LongitudCliente\"]\n",
    "    elat = row[\"LatitudEvento\"]\n",
    "    elon = row[\"LongitudEvento\"]\n",
    "    coords1 = (slat,slon)\n",
    "    coords2 = (elat,elon)\n",
    "    \n",
    "    #dist = 6371.01 * acos(sin(slat)*sin(elat) + cos(slat)*cos(elat)*cos(slon - elon))\n",
    "    return geopy.distance.geodesic(coords1,coords2).km"
   ]
  },
  {
   "cell_type": "code",
   "execution_count": 12,
   "metadata": {},
   "outputs": [
    {
     "data": {
      "text/plain": [
       "(1503111, 21)"
      ]
     },
     "execution_count": 12,
     "metadata": {},
     "output_type": "execute_result"
    }
   ],
   "source": [
    "df_eventos = pd.read_csv(\"../../eventos.csv\", encoding = \"ISO-8859-1\", parse_dates=['FechaEvento'], infer_datetime_format=True)\n",
    "#here replace date as you wish\n",
    "df_eventos_abril = df_eventos[(df_eventos[\"FechaEvento\"] == pd.datetime(2016,4,15)) ]\n",
    "df_eventos.shape"
   ]
  },
  {
   "cell_type": "code",
   "execution_count": 13,
   "metadata": {},
   "outputs": [
    {
     "name": "stderr",
     "output_type": "stream",
     "text": [
      "/home/belen/.local/lib/python3.5/site-packages/ipykernel_launcher.py:2: SettingWithCopyWarning: \n",
      "A value is trying to be set on a copy of a slice from a DataFrame.\n",
      "Try using .loc[row_indexer,col_indexer] = value instead\n",
      "\n",
      "See the caveats in the documentation: http://pandas.pydata.org/pandas-docs/stable/indexing.html#indexing-view-versus-copy\n",
      "  \n"
     ]
    },
    {
     "data": {
      "text/plain": [
       "0         281.308473\n",
       "1         208.211539\n",
       "2         210.552110\n",
       "3         347.175233\n",
       "4         234.929387\n",
       "5         287.970755\n",
       "6         287.310736\n",
       "7         287.147273\n",
       "8         289.393259\n",
       "9         261.651020\n",
       "10        260.541355\n",
       "11        216.449639\n",
       "12        284.297815\n",
       "13        281.524833\n",
       "14        285.665463\n",
       "15        288.798626\n",
       "16        289.102541\n",
       "17        289.541614\n",
       "18        213.121300\n",
       "19        231.790018\n",
       "20        244.237406\n",
       "21        261.854172\n",
       "22        217.853237\n",
       "23        289.534230\n",
       "24        288.759710\n",
       "25        288.759958\n",
       "26        285.407495\n",
       "27        259.156420\n",
       "28        286.871939\n",
       "29        258.876191\n",
       "             ...    \n",
       "199723    147.547446\n",
       "199724    139.565250\n",
       "199725    151.018892\n",
       "199726    236.204524\n",
       "199727    209.081326\n",
       "199728    150.381542\n",
       "199729    142.537222\n",
       "199730    153.744968\n",
       "199731    162.785420\n",
       "199732    209.177456\n",
       "199733    153.190789\n",
       "199734    214.552514\n",
       "199735    218.042314\n",
       "199736    209.681804\n",
       "199737    172.118630\n",
       "199738    203.206258\n",
       "199739    260.880910\n",
       "199740    190.078776\n",
       "199741    178.048749\n",
       "199742    199.854313\n",
       "199743    182.953035\n",
       "199744    206.386974\n",
       "199745    190.554884\n",
       "199746    133.487892\n",
       "199747    254.550662\n",
       "199748    220.666288\n",
       "199749    232.403967\n",
       "199750    227.558690\n",
       "199751    154.964839\n",
       "199752    165.581984\n",
       "Name: Distancia, Length: 199753, dtype: float64"
      ]
     },
     "execution_count": 13,
     "metadata": {},
     "output_type": "execute_result"
    }
   ],
   "source": [
    "\n",
    "df_eventos_abril[\"Distancia\"] = df_eventos_abril.apply(lambda row: distance_from_coords(row),axis=1)\n",
    "df_eventos_abril[\"Distancia\"]"
   ]
  },
  {
   "cell_type": "code",
   "execution_count": 14,
   "metadata": {},
   "outputs": [
    {
     "data": {
      "text/plain": [
       "<matplotlib.axes._subplots.AxesSubplot at 0x7f8269271358>"
      ]
     },
     "execution_count": 14,
     "metadata": {},
     "output_type": "execute_result"
    },
    {
     "data": {
      "image/png": "[encoded data removed]",
      "text/plain": [
       "<Figure size 432x288 with 1 Axes>"
      ]
     },
     "metadata": {},
     "output_type": "display_data"
    }
   ],
   "source": [
    "sns.distplot(df_eventos_abril['Distancia'], hist=True, kde=True, \n",
    "             bins=int(18), color = 'darkblue', \n",
    "             hist_kws={'edgecolor':'black'},\n",
    "             kde_kws={'linewidth': 4})"
   ]
  },
  {
   "cell_type": "code",
   "execution_count": 18,
   "metadata": {},
   "outputs": [
    {
     "data": {
      "text/html": [
       "<div>\n",
       "<style scoped>\n",
       "    .dataframe tbody tr th:only-of-type {\n",
       "        vertical-align: middle;\n",
       "    }\n",
       "\n",
       "    .dataframe tbody tr th {\n",
       "        vertical-align: top;\n",
       "    }\n",
       "\n",
       "    .dataframe thead th {\n",
       "        text-align: right;\n",
       "    }\n",
       "</style>\n",
       "<table border=\"1\" class=\"dataframe\">\n",
       "  <thead>\n",
       "    <tr style=\"text-align: right;\">\n",
       "      <th></th>\n",
       "      <th>Hora</th>\n",
       "      <th>LatitudCliente</th>\n",
       "      <th>LongitudCliente</th>\n",
       "      <th>LatitudEvento</th>\n",
       "      <th>LongitudEvento</th>\n",
       "      <th>ID</th>\n",
       "      <th>BaseCliente</th>\n",
       "      <th>BaseEvento</th>\n",
       "      <th>CantidadClientes</th>\n",
       "      <th>GeoIdCliente</th>\n",
       "      <th>GeoIdEvento</th>\n",
       "      <th>Distancia</th>\n",
       "    </tr>\n",
       "  </thead>\n",
       "  <tbody>\n",
       "    <tr>\n",
       "      <th>count</th>\n",
       "      <td>199753.000000</td>\n",
       "      <td>199753.000000</td>\n",
       "      <td>199753.000000</td>\n",
       "      <td>199753.000000</td>\n",
       "      <td>199753.000000</td>\n",
       "      <td>1.997530e+05</td>\n",
       "      <td>1.997530e+05</td>\n",
       "      <td>1.997530e+05</td>\n",
       "      <td>199753.000000</td>\n",
       "      <td>199753.000000</td>\n",
       "      <td>199753.000000</td>\n",
       "      <td>199753.000000</td>\n",
       "    </tr>\n",
       "    <tr>\n",
       "      <th>mean</th>\n",
       "      <td>12.958879</td>\n",
       "      <td>-1.084107</td>\n",
       "      <td>-80.006781</td>\n",
       "      <td>-0.939235</td>\n",
       "      <td>-80.467586</td>\n",
       "      <td>1.177783e+07</td>\n",
       "      <td>1.729038e+05</td>\n",
       "      <td>1.767186e+05</td>\n",
       "      <td>8.149174</td>\n",
       "      <td>471.158401</td>\n",
       "      <td>448.911751</td>\n",
       "      <td>98.422946</td>\n",
       "    </tr>\n",
       "    <tr>\n",
       "      <th>std</th>\n",
       "      <td>6.119722</td>\n",
       "      <td>0.743599</td>\n",
       "      <td>1.122993</td>\n",
       "      <td>0.311514</td>\n",
       "      <td>0.292474</td>\n",
       "      <td>2.549940e+07</td>\n",
       "      <td>3.973028e+05</td>\n",
       "      <td>3.986546e+05</td>\n",
       "      <td>43.219176</td>\n",
       "      <td>228.477941</td>\n",
       "      <td>46.063676</td>\n",
       "      <td>122.265981</td>\n",
       "    </tr>\n",
       "    <tr>\n",
       "      <th>min</th>\n",
       "      <td>0.000000</td>\n",
       "      <td>-4.363110</td>\n",
       "      <td>-90.965700</td>\n",
       "      <td>-1.713620</td>\n",
       "      <td>-80.894200</td>\n",
       "      <td>1.200000e+01</td>\n",
       "      <td>1.003000e+03</td>\n",
       "      <td>6.720000e+03</td>\n",
       "      <td>1.000000</td>\n",
       "      <td>1.000000</td>\n",
       "      <td>377.000000</td>\n",
       "      <td>0.000000</td>\n",
       "    </tr>\n",
       "    <tr>\n",
       "      <th>25%</th>\n",
       "      <td>9.000000</td>\n",
       "      <td>-1.312800</td>\n",
       "      <td>-80.670600</td>\n",
       "      <td>-1.056930</td>\n",
       "      <td>-80.704500</td>\n",
       "      <td>2.652303e+06</td>\n",
       "      <td>4.037300e+04</td>\n",
       "      <td>4.636300e+04</td>\n",
       "      <td>1.000000</td>\n",
       "      <td>389.000000</td>\n",
       "      <td>418.000000</td>\n",
       "      <td>18.651818</td>\n",
       "    </tr>\n",
       "    <tr>\n",
       "      <th>50%</th>\n",
       "      <td>13.000000</td>\n",
       "      <td>-0.971694</td>\n",
       "      <td>-80.236900</td>\n",
       "      <td>-0.968642</td>\n",
       "      <td>-80.492800</td>\n",
       "      <td>4.848775e+06</td>\n",
       "      <td>5.269500e+04</td>\n",
       "      <td>6.121800e+04</td>\n",
       "      <td>2.000000</td>\n",
       "      <td>441.000000</td>\n",
       "      <td>445.000000</td>\n",
       "      <td>64.070554</td>\n",
       "    </tr>\n",
       "    <tr>\n",
       "      <th>75%</th>\n",
       "      <td>18.000000</td>\n",
       "      <td>-0.762486</td>\n",
       "      <td>-79.838100</td>\n",
       "      <td>-0.925025</td>\n",
       "      <td>-80.410500</td>\n",
       "      <td>9.985729e+06</td>\n",
       "      <td>1.408020e+05</td>\n",
       "      <td>1.393480e+05</td>\n",
       "      <td>4.000000</td>\n",
       "      <td>498.000000</td>\n",
       "      <td>480.000000</td>\n",
       "      <td>158.355106</td>\n",
       "    </tr>\n",
       "    <tr>\n",
       "      <th>max</th>\n",
       "      <td>23.000000</td>\n",
       "      <td>1.283780</td>\n",
       "      <td>0.000000</td>\n",
       "      <td>0.367503</td>\n",
       "      <td>-79.457700</td>\n",
       "      <td>7.181656e+08</td>\n",
       "      <td>1.203227e+07</td>\n",
       "      <td>1.211927e+07</td>\n",
       "      <td>2120.000000</td>\n",
       "      <td>1416.000000</td>\n",
       "      <td>1776.000000</td>\n",
       "      <td>8953.272305</td>\n",
       "    </tr>\n",
       "  </tbody>\n",
       "</table>\n",
       "</div>"
      ],
      "text/plain": [
       "                Hora  LatitudCliente  LongitudCliente  LatitudEvento  \\\n",
       "count  199753.000000   199753.000000    199753.000000  199753.000000   \n",
       "mean       12.958879       -1.084107       -80.006781      -0.939235   \n",
       "std         6.119722        0.743599         1.122993       0.311514   \n",
       "min         0.000000       -4.363110       -90.965700      -1.713620   \n",
       "25%         9.000000       -1.312800       -80.670600      -1.056930   \n",
       "50%        13.000000       -0.971694       -80.236900      -0.968642   \n",
       "75%        18.000000       -0.762486       -79.838100      -0.925025   \n",
       "max        23.000000        1.283780         0.000000       0.367503   \n",
       "\n",
       "       LongitudEvento            ID   BaseCliente    BaseEvento  \\\n",
       "count   199753.000000  1.997530e+05  1.997530e+05  1.997530e+05   \n",
       "mean       -80.467586  1.177783e+07  1.729038e+05  1.767186e+05   \n",
       "std          0.292474  2.549940e+07  3.973028e+05  3.986546e+05   \n",
       "min        -80.894200  1.200000e+01  1.003000e+03  6.720000e+03   \n",
       "25%        -80.704500  2.652303e+06  4.037300e+04  4.636300e+04   \n",
       "50%        -80.492800  4.848775e+06  5.269500e+04  6.121800e+04   \n",
       "75%        -80.410500  9.985729e+06  1.408020e+05  1.393480e+05   \n",
       "max        -79.457700  7.181656e+08  1.203227e+07  1.211927e+07   \n",
       "\n",
       "       CantidadClientes   GeoIdCliente    GeoIdEvento      Distancia  \n",
       "count     199753.000000  199753.000000  199753.000000  199753.000000  \n",
       "mean           8.149174     471.158401     448.911751      98.422946  \n",
       "std           43.219176     228.477941      46.063676     122.265981  \n",
       "min            1.000000       1.000000     377.000000       0.000000  \n",
       "25%            1.000000     389.000000     418.000000      18.651818  \n",
       "50%            2.000000     441.000000     445.000000      64.070554  \n",
       "75%            4.000000     498.000000     480.000000     158.355106  \n",
       "max         2120.000000    1416.000000    1776.000000    8953.272305  "
      ]
     },
     "execution_count": 18,
     "metadata": {},
     "output_type": "execute_result"
    }
   ],
   "source": [
    "df_eventos_abril.shape\n",
    "df_eventos_abril.describe()\n",
    "#df_eventos_abril.loc[df_eventos_abril[\"Distancia\"]>2000,\"Distancia\"] = 12345678910\n",
    "#here replace file name as you wish\n",
    "#df_eventos_abril.to_csv(\"eventos_con_distancia_20160417.csv\", sep=',')"
   ]
  },
  {
   "cell_type": "code",
   "execution_count": 16,
   "metadata": {},
   "outputs": [
    {
     "data": {
      "text/plain": [
       "(1417, 2)"
      ]
     },
     "execution_count": 16,
     "metadata": {},
     "output_type": "execute_result"
    }
   ],
   "source": [
    "clientes = df_eventos_abril[\"GeoIdCliente\"].rename(columns={\"GeoIdCliente\":\"TorreId\"})\n",
    "eventos = df_eventos_abril[\"GeoIdEvento\"].rename(columns={\"GeoIdEvento\":\"TorreId\"})\n",
    "torres = pd.concat([clientes,eventos])\n",
    "torres = torres.drop_duplicates().reset_index()\n",
    "torres.shape"
   ]
  },
  {
   "cell_type": "code",
   "execution_count": 19,
   "metadata": {},
   "outputs": [],
   "source": [
    "df_16 = df_eventos[(df_eventos[\"FechaEvento\"] == pd.datetime(2016,4,16)) ]\n",
    "df_16 = df_16.groupby(by=\"Hora\").sum"
   ]
  }
 ],
 "metadata": {
  "kernelspec": {
   "display_name": "Python 3",
   "language": "python",
   "name": "python3"
  },
  "language_info": {
   "codemirror_mode": {
    "name": "ipython",
    "version": 3
   },
   "file_extension": ".py",
   "mimetype": "text/x-python",
   "name": "python",
   "nbconvert_exporter": "python",
   "pygments_lexer": "ipython3",
   "version": "3.5.2"
  }
 },
 "nbformat": 4,
 "nbformat_minor": 2
}
