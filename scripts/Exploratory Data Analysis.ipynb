{
 "cells": [
  {
   "cell_type": "code",
   "execution_count": 13,
   "metadata": {},
   "outputs": [],
   "source": [
    "import pandas as pd\n",
    "import seaborn as sns"
   ]
  },
  {
   "cell_type": "markdown",
   "metadata": {},
   "source": [
    "### Cosine similarity"
   ]
  },
  {
   "cell_type": "code",
   "execution_count": 15,
   "metadata": {},
   "outputs": [],
   "source": [
    "cosine = pd.read_csv(\"cosine.csv\").fillna(0)"
   ]
  },
  {
   "cell_type": "code",
   "execution_count": 16,
   "metadata": {},
   "outputs": [
    {
     "data": {
      "text/html": [
       "<div>\n",
       "<style>\n",
       "    .dataframe thead tr:only-child th {\n",
       "        text-align: right;\n",
       "    }\n",
       "\n",
       "    .dataframe thead th {\n",
       "        text-align: left;\n",
       "    }\n",
       "\n",
       "    .dataframe tbody tr th {\n",
       "        vertical-align: top;\n",
       "    }\n",
       "</style>\n",
       "<table border=\"1\" class=\"dataframe\">\n",
       "  <thead>\n",
       "    <tr style=\"text-align: right;\">\n",
       "      <th></th>\n",
       "      <th>GeoId</th>\n",
       "      <th>cosine_similarity</th>\n",
       "    </tr>\n",
       "  </thead>\n",
       "  <tbody>\n",
       "    <tr>\n",
       "      <th>count</th>\n",
       "      <td>139.000000</td>\n",
       "      <td>139.000000</td>\n",
       "    </tr>\n",
       "    <tr>\n",
       "      <th>mean</th>\n",
       "      <td>479.741007</td>\n",
       "      <td>0.497840</td>\n",
       "    </tr>\n",
       "    <tr>\n",
       "      <th>std</th>\n",
       "      <td>208.226129</td>\n",
       "      <td>0.375710</td>\n",
       "    </tr>\n",
       "    <tr>\n",
       "      <th>min</th>\n",
       "      <td>377.000000</td>\n",
       "      <td>0.000000</td>\n",
       "    </tr>\n",
       "    <tr>\n",
       "      <th>25%</th>\n",
       "      <td>411.500000</td>\n",
       "      <td>0.124833</td>\n",
       "    </tr>\n",
       "    <tr>\n",
       "      <th>50%</th>\n",
       "      <td>446.000000</td>\n",
       "      <td>0.506120</td>\n",
       "    </tr>\n",
       "    <tr>\n",
       "      <th>75%</th>\n",
       "      <td>480.500000</td>\n",
       "      <td>0.936741</td>\n",
       "    </tr>\n",
       "    <tr>\n",
       "      <th>max</th>\n",
       "      <td>1804.000000</td>\n",
       "      <td>0.993300</td>\n",
       "    </tr>\n",
       "  </tbody>\n",
       "</table>\n",
       "</div>"
      ],
      "text/plain": [
       "             GeoId  cosine_similarity\n",
       "count   139.000000         139.000000\n",
       "mean    479.741007           0.497840\n",
       "std     208.226129           0.375710\n",
       "min     377.000000           0.000000\n",
       "25%     411.500000           0.124833\n",
       "50%     446.000000           0.506120\n",
       "75%     480.500000           0.936741\n",
       "max    1804.000000           0.993300"
      ]
     },
     "execution_count": 16,
     "metadata": {},
     "output_type": "execute_result"
    }
   ],
   "source": [
    "cosine.describe()"
   ]
  },
  {
   "cell_type": "markdown",
   "metadata": {},
   "source": [
    "#### LEAST COSINE SIMILARITY"
   ]
  },
  {
   "cell_type": "code",
   "execution_count": 72,
   "metadata": {},
   "outputs": [
    {
     "data": {
      "text/html": [
       "<div>\n",
       "<style>\n",
       "    .dataframe thead tr:only-child th {\n",
       "        text-align: right;\n",
       "    }\n",
       "\n",
       "    .dataframe thead th {\n",
       "        text-align: left;\n",
       "    }\n",
       "\n",
       "    .dataframe tbody tr th {\n",
       "        vertical-align: top;\n",
       "    }\n",
       "</style>\n",
       "<table border=\"1\" class=\"dataframe\">\n",
       "  <thead>\n",
       "    <tr style=\"text-align: right;\">\n",
       "      <th></th>\n",
       "      <th>GeoId</th>\n",
       "      <th>cosine_similarity</th>\n",
       "    </tr>\n",
       "  </thead>\n",
       "  <tbody>\n",
       "    <tr>\n",
       "      <th>23</th>\n",
       "      <td>395</td>\n",
       "      <td>0.070866</td>\n",
       "    </tr>\n",
       "    <tr>\n",
       "      <th>43</th>\n",
       "      <td>415</td>\n",
       "      <td>0.112550</td>\n",
       "    </tr>\n",
       "    <tr>\n",
       "      <th>113</th>\n",
       "      <td>485</td>\n",
       "      <td>0.119320</td>\n",
       "    </tr>\n",
       "  </tbody>\n",
       "</table>\n",
       "</div>"
      ],
      "text/plain": [
       "     GeoId  cosine_similarity\n",
       "23     395           0.070866\n",
       "43     415           0.112550\n",
       "113    485           0.119320"
      ]
     },
     "execution_count": 72,
     "metadata": {},
     "output_type": "execute_result"
    }
   ],
   "source": [
    "cosine[(cosine[\"cosine_similarity\"]<0.125)&(cosine[\"cosine_similarity\"]>0)]"
   ]
  },
  {
   "cell_type": "markdown",
   "metadata": {},
   "source": [
    "#### MOST COSINE SIMILARITY"
   ]
  },
  {
   "cell_type": "code",
   "execution_count": 74,
   "metadata": {},
   "outputs": [
    {
     "data": {
      "text/html": [
       "<div>\n",
       "<style>\n",
       "    .dataframe thead tr:only-child th {\n",
       "        text-align: right;\n",
       "    }\n",
       "\n",
       "    .dataframe thead th {\n",
       "        text-align: left;\n",
       "    }\n",
       "\n",
       "    .dataframe tbody tr th {\n",
       "        vertical-align: top;\n",
       "    }\n",
       "</style>\n",
       "<table border=\"1\" class=\"dataframe\">\n",
       "  <thead>\n",
       "    <tr style=\"text-align: right;\">\n",
       "      <th></th>\n",
       "      <th>GeoId</th>\n",
       "      <th>cosine_similarity</th>\n",
       "    </tr>\n",
       "  </thead>\n",
       "  <tbody>\n",
       "    <tr>\n",
       "      <th>5</th>\n",
       "      <td>377</td>\n",
       "      <td>0.974543</td>\n",
       "    </tr>\n",
       "    <tr>\n",
       "      <th>11</th>\n",
       "      <td>383</td>\n",
       "      <td>0.935781</td>\n",
       "    </tr>\n",
       "    <tr>\n",
       "      <th>16</th>\n",
       "      <td>388</td>\n",
       "      <td>0.965532</td>\n",
       "    </tr>\n",
       "    <tr>\n",
       "      <th>20</th>\n",
       "      <td>392</td>\n",
       "      <td>0.955699</td>\n",
       "    </tr>\n",
       "    <tr>\n",
       "      <th>24</th>\n",
       "      <td>396</td>\n",
       "      <td>0.971475</td>\n",
       "    </tr>\n",
       "    <tr>\n",
       "      <th>27</th>\n",
       "      <td>399</td>\n",
       "      <td>0.986171</td>\n",
       "    </tr>\n",
       "    <tr>\n",
       "      <th>28</th>\n",
       "      <td>400</td>\n",
       "      <td>0.964974</td>\n",
       "    </tr>\n",
       "    <tr>\n",
       "      <th>29</th>\n",
       "      <td>401</td>\n",
       "      <td>0.970538</td>\n",
       "    </tr>\n",
       "    <tr>\n",
       "      <th>31</th>\n",
       "      <td>403</td>\n",
       "      <td>0.992985</td>\n",
       "    </tr>\n",
       "    <tr>\n",
       "      <th>34</th>\n",
       "      <td>406</td>\n",
       "      <td>0.977570</td>\n",
       "    </tr>\n",
       "    <tr>\n",
       "      <th>35</th>\n",
       "      <td>407</td>\n",
       "      <td>0.978678</td>\n",
       "    </tr>\n",
       "    <tr>\n",
       "      <th>44</th>\n",
       "      <td>416</td>\n",
       "      <td>0.948194</td>\n",
       "    </tr>\n",
       "    <tr>\n",
       "      <th>45</th>\n",
       "      <td>417</td>\n",
       "      <td>0.965353</td>\n",
       "    </tr>\n",
       "    <tr>\n",
       "      <th>46</th>\n",
       "      <td>418</td>\n",
       "      <td>0.984883</td>\n",
       "    </tr>\n",
       "    <tr>\n",
       "      <th>49</th>\n",
       "      <td>421</td>\n",
       "      <td>0.967318</td>\n",
       "    </tr>\n",
       "    <tr>\n",
       "      <th>51</th>\n",
       "      <td>423</td>\n",
       "      <td>0.991524</td>\n",
       "    </tr>\n",
       "    <tr>\n",
       "      <th>53</th>\n",
       "      <td>425</td>\n",
       "      <td>0.959141</td>\n",
       "    </tr>\n",
       "    <tr>\n",
       "      <th>63</th>\n",
       "      <td>435</td>\n",
       "      <td>0.966909</td>\n",
       "    </tr>\n",
       "    <tr>\n",
       "      <th>73</th>\n",
       "      <td>445</td>\n",
       "      <td>0.964622</td>\n",
       "    </tr>\n",
       "    <tr>\n",
       "      <th>76</th>\n",
       "      <td>448</td>\n",
       "      <td>0.959198</td>\n",
       "    </tr>\n",
       "    <tr>\n",
       "      <th>77</th>\n",
       "      <td>449</td>\n",
       "      <td>0.954345</td>\n",
       "    </tr>\n",
       "    <tr>\n",
       "      <th>84</th>\n",
       "      <td>456</td>\n",
       "      <td>0.979524</td>\n",
       "    </tr>\n",
       "    <tr>\n",
       "      <th>89</th>\n",
       "      <td>461</td>\n",
       "      <td>0.978921</td>\n",
       "    </tr>\n",
       "    <tr>\n",
       "      <th>93</th>\n",
       "      <td>465</td>\n",
       "      <td>0.937702</td>\n",
       "    </tr>\n",
       "    <tr>\n",
       "      <th>94</th>\n",
       "      <td>466</td>\n",
       "      <td>0.954393</td>\n",
       "    </tr>\n",
       "    <tr>\n",
       "      <th>95</th>\n",
       "      <td>467</td>\n",
       "      <td>0.982392</td>\n",
       "    </tr>\n",
       "    <tr>\n",
       "      <th>96</th>\n",
       "      <td>468</td>\n",
       "      <td>0.965838</td>\n",
       "    </tr>\n",
       "    <tr>\n",
       "      <th>98</th>\n",
       "      <td>470</td>\n",
       "      <td>0.952996</td>\n",
       "    </tr>\n",
       "    <tr>\n",
       "      <th>99</th>\n",
       "      <td>471</td>\n",
       "      <td>0.969642</td>\n",
       "    </tr>\n",
       "    <tr>\n",
       "      <th>124</th>\n",
       "      <td>496</td>\n",
       "      <td>0.978594</td>\n",
       "    </tr>\n",
       "    <tr>\n",
       "      <th>125</th>\n",
       "      <td>497</td>\n",
       "      <td>0.967130</td>\n",
       "    </tr>\n",
       "    <tr>\n",
       "      <th>127</th>\n",
       "      <td>499</td>\n",
       "      <td>0.947592</td>\n",
       "    </tr>\n",
       "    <tr>\n",
       "      <th>130</th>\n",
       "      <td>502</td>\n",
       "      <td>0.985048</td>\n",
       "    </tr>\n",
       "    <tr>\n",
       "      <th>134</th>\n",
       "      <td>506</td>\n",
       "      <td>0.993300</td>\n",
       "    </tr>\n",
       "    <tr>\n",
       "      <th>135</th>\n",
       "      <td>507</td>\n",
       "      <td>0.985080</td>\n",
       "    </tr>\n",
       "    <tr>\n",
       "      <th>136</th>\n",
       "      <td>508</td>\n",
       "      <td>0.985950</td>\n",
       "    </tr>\n",
       "  </tbody>\n",
       "</table>\n",
       "</div>"
      ],
      "text/plain": [
       "     GeoId  cosine_similarity\n",
       "5      377           0.974543\n",
       "11     383           0.935781\n",
       "16     388           0.965532\n",
       "20     392           0.955699\n",
       "24     396           0.971475\n",
       "27     399           0.986171\n",
       "28     400           0.964974\n",
       "29     401           0.970538\n",
       "31     403           0.992985\n",
       "34     406           0.977570\n",
       "35     407           0.978678\n",
       "44     416           0.948194\n",
       "45     417           0.965353\n",
       "46     418           0.984883\n",
       "49     421           0.967318\n",
       "51     423           0.991524\n",
       "53     425           0.959141\n",
       "63     435           0.966909\n",
       "73     445           0.964622\n",
       "76     448           0.959198\n",
       "77     449           0.954345\n",
       "84     456           0.979524\n",
       "89     461           0.978921\n",
       "93     465           0.937702\n",
       "94     466           0.954393\n",
       "95     467           0.982392\n",
       "96     468           0.965838\n",
       "98     470           0.952996\n",
       "99     471           0.969642\n",
       "124    496           0.978594\n",
       "125    497           0.967130\n",
       "127    499           0.947592\n",
       "130    502           0.985048\n",
       "134    506           0.993300\n",
       "135    507           0.985080\n",
       "136    508           0.985950"
      ]
     },
     "execution_count": 74,
     "metadata": {},
     "output_type": "execute_result"
    }
   ],
   "source": [
    "cosine[(cosine[\"cosine_similarity\"]>0.93)]"
   ]
  },
  {
   "cell_type": "code",
   "execution_count": 17,
   "metadata": {},
   "outputs": [
    {
     "data": {
      "text/plain": [
       "<matplotlib.axes._subplots.AxesSubplot at 0x7fa64db06128>"
      ]
     },
     "execution_count": 17,
     "metadata": {},
     "output_type": "execute_result"
    },
    {
     "data": {
      "image/png": "[encoded data removed]",
      "text/plain": [
       "<matplotlib.figure.Figure at 0x7fa64db344a8>"
      ]
     },
     "metadata": {},
     "output_type": "display_data"
    }
   ],
   "source": [
    "sns.distplot(cosine[\"cosine_similarity\"])"
   ]
  },
  {
   "cell_type": "markdown",
   "metadata": {},
   "source": [
    "### Dynamic Time Warping"
   ]
  },
  {
   "cell_type": "code",
   "execution_count": 10,
   "metadata": {},
   "outputs": [],
   "source": [
    "dtw = pd.read_csv(\"dtw_tower.csv\")"
   ]
  },
  {
   "cell_type": "code",
   "execution_count": 18,
   "metadata": {},
   "outputs": [
    {
     "data": {
      "text/html": [
       "<div>\n",
       "<style>\n",
       "    .dataframe thead tr:only-child th {\n",
       "        text-align: right;\n",
       "    }\n",
       "\n",
       "    .dataframe thead th {\n",
       "        text-align: left;\n",
       "    }\n",
       "\n",
       "    .dataframe tbody tr th {\n",
       "        vertical-align: top;\n",
       "    }\n",
       "</style>\n",
       "<table border=\"1\" class=\"dataframe\">\n",
       "  <thead>\n",
       "    <tr style=\"text-align: right;\">\n",
       "      <th></th>\n",
       "      <th>GeoId</th>\n",
       "      <th>dtw</th>\n",
       "    </tr>\n",
       "  </thead>\n",
       "  <tbody>\n",
       "    <tr>\n",
       "      <th>96</th>\n",
       "      <td>468</td>\n",
       "      <td>1383.476057</td>\n",
       "    </tr>\n",
       "  </tbody>\n",
       "</table>\n",
       "</div>"
      ],
      "text/plain": [
       "    GeoId          dtw\n",
       "96    468  1383.476057"
      ]
     },
     "execution_count": 18,
     "metadata": {},
     "output_type": "execute_result"
    }
   ],
   "source": [
    "dtw.sample()"
   ]
  },
  {
   "cell_type": "code",
   "execution_count": 11,
   "metadata": {},
   "outputs": [
    {
     "data": {
      "text/html": [
       "<div>\n",
       "<style>\n",
       "    .dataframe thead tr:only-child th {\n",
       "        text-align: right;\n",
       "    }\n",
       "\n",
       "    .dataframe thead th {\n",
       "        text-align: left;\n",
       "    }\n",
       "\n",
       "    .dataframe tbody tr th {\n",
       "        vertical-align: top;\n",
       "    }\n",
       "</style>\n",
       "<table border=\"1\" class=\"dataframe\">\n",
       "  <thead>\n",
       "    <tr style=\"text-align: right;\">\n",
       "      <th></th>\n",
       "      <th>GeoId</th>\n",
       "      <th>dtw</th>\n",
       "    </tr>\n",
       "  </thead>\n",
       "  <tbody>\n",
       "    <tr>\n",
       "      <th>count</th>\n",
       "      <td>139.000000</td>\n",
       "      <td>139.000000</td>\n",
       "    </tr>\n",
       "    <tr>\n",
       "      <th>mean</th>\n",
       "      <td>479.741007</td>\n",
       "      <td>2097.579502</td>\n",
       "    </tr>\n",
       "    <tr>\n",
       "      <th>std</th>\n",
       "      <td>208.226129</td>\n",
       "      <td>2157.134740</td>\n",
       "    </tr>\n",
       "    <tr>\n",
       "      <th>min</th>\n",
       "      <td>377.000000</td>\n",
       "      <td>1.414214</td>\n",
       "    </tr>\n",
       "    <tr>\n",
       "      <th>25%</th>\n",
       "      <td>411.500000</td>\n",
       "      <td>443.336620</td>\n",
       "    </tr>\n",
       "    <tr>\n",
       "      <th>50%</th>\n",
       "      <td>446.000000</td>\n",
       "      <td>1520.175319</td>\n",
       "    </tr>\n",
       "    <tr>\n",
       "      <th>75%</th>\n",
       "      <td>480.500000</td>\n",
       "      <td>2936.717489</td>\n",
       "    </tr>\n",
       "    <tr>\n",
       "      <th>max</th>\n",
       "      <td>1804.000000</td>\n",
       "      <td>11157.846701</td>\n",
       "    </tr>\n",
       "  </tbody>\n",
       "</table>\n",
       "</div>"
      ],
      "text/plain": [
       "             GeoId           dtw\n",
       "count   139.000000    139.000000\n",
       "mean    479.741007   2097.579502\n",
       "std     208.226129   2157.134740\n",
       "min     377.000000      1.414214\n",
       "25%     411.500000    443.336620\n",
       "50%     446.000000   1520.175319\n",
       "75%     480.500000   2936.717489\n",
       "max    1804.000000  11157.846701"
      ]
     },
     "execution_count": 11,
     "metadata": {},
     "output_type": "execute_result"
    }
   ],
   "source": [
    "dtw.describe()"
   ]
  },
  {
   "cell_type": "code",
   "execution_count": 19,
   "metadata": {},
   "outputs": [
    {
     "data": {
      "text/plain": [
       "<matplotlib.axes._subplots.AxesSubplot at 0x7fa64dad4f28>"
      ]
     },
     "execution_count": 19,
     "metadata": {},
     "output_type": "execute_result"
    },
    {
     "data": {
      "image/png": "[encoded data removed]",
      "text/plain": [
       "<matplotlib.figure.Figure at 0x7fa64daaf978>"
      ]
     },
     "metadata": {},
     "output_type": "display_data"
    }
   ],
   "source": [
    "sns.distplot(dtw[\"dtw\"])"
   ]
  },
  {
   "cell_type": "markdown",
   "metadata": {},
   "source": [
    "### Events Frecuency "
   ]
  },
  {
   "cell_type": "code",
   "execution_count": 63,
   "metadata": {},
   "outputs": [],
   "source": [
    "hours = pd.read_csv(\"freq_sub_hours.csv\")\n",
    "days = pd.read_csv(\"freq_sub_days.csv\")"
   ]
  },
  {
   "cell_type": "code",
   "execution_count": 53,
   "metadata": {},
   "outputs": [
    {
     "data": {
      "text/plain": [
       "<matplotlib.axes._subplots.AxesSubplot at 0x7fa64cde7198>"
      ]
     },
     "execution_count": 53,
     "metadata": {},
     "output_type": "execute_result"
    },
    {
     "data": {
      "image/png": "[encoded data removed]",
      "text/plain": [
       "<matplotlib.figure.Figure at 0x7fa64cd16a20>"
      ]
     },
     "metadata": {},
     "output_type": "display_data"
    }
   ],
   "source": [
    "sns.distplot(days[\"freq_sub\"])"
   ]
  },
  {
   "cell_type": "markdown",
   "metadata": {},
   "source": [
    "#### Hours"
   ]
  },
  {
   "cell_type": "code",
   "execution_count": 48,
   "metadata": {},
   "outputs": [
    {
     "data": {
      "text/plain": [
       "<matplotlib.axes._subplots.AxesSubplot at 0x7fa64ce6a780>"
      ]
     },
     "execution_count": 48,
     "metadata": {},
     "output_type": "execute_result"
    },
    {
     "data": {
      "image/png": "[encoded data removed]",
      "text/plain": [
       "<matplotlib.figure.Figure at 0x7fa64ceb8da0>"
      ]
     },
     "metadata": {},
     "output_type": "display_data"
    }
   ],
   "source": [
    "import numpy as np\n",
    "import matplotlib.pyplot as plt\n",
    "sns.set(style=\"white\")\n",
    "\n",
    "corr = hours.corr()\n",
    "# Generate a mask for the upper triangle\n",
    "mask = np.zeros_like(corr, dtype=np.bool)\n",
    "mask[np.triu_indices_from(mask)] = True\n",
    "\n",
    "# Set up the matplotlib figure\n",
    "f, ax = plt.subplots(figsize=(11, 9))\n",
    "\n",
    "# Generate a custom diverging colormap\n",
    "cmap = sns.diverging_palette(400, 5, as_cmap=True)\n",
    "\n",
    "# Draw the heatmap with the mask and correct aspect ratio\n",
    "sns.heatmap(corr, mask=mask, cmap=\"RdBu\", vmax=1, center=0,\n",
    "            square=True, linewidths=.5, cbar_kws={\"shrink\": .7})"
   ]
  },
  {
   "cell_type": "markdown",
   "metadata": {},
   "source": [
    "#### Entropy"
   ]
  },
  {
   "cell_type": "code",
   "execution_count": 54,
   "metadata": {},
   "outputs": [],
   "source": [
    "entropy = pd.read_csv(\"entropy.csv\")"
   ]
  },
  {
   "cell_type": "code",
   "execution_count": 56,
   "metadata": {},
   "outputs": [
    {
     "data": {
      "text/html": [
       "<div>\n",
       "<style>\n",
       "    .dataframe thead tr:only-child th {\n",
       "        text-align: right;\n",
       "    }\n",
       "\n",
       "    .dataframe thead th {\n",
       "        text-align: left;\n",
       "    }\n",
       "\n",
       "    .dataframe tbody tr th {\n",
       "        vertical-align: top;\n",
       "    }\n",
       "</style>\n",
       "<table border=\"1\" class=\"dataframe\">\n",
       "  <thead>\n",
       "    <tr style=\"text-align: right;\">\n",
       "      <th></th>\n",
       "      <th>base</th>\n",
       "      <th>entropy15april</th>\n",
       "      <th>entropy17april</th>\n",
       "      <th>diff</th>\n",
       "      <th>zscore</th>\n",
       "    </tr>\n",
       "  </thead>\n",
       "  <tbody>\n",
       "    <tr>\n",
       "      <th>20</th>\n",
       "      <td>394</td>\n",
       "      <td>0.007665</td>\n",
       "      <td>0.007281</td>\n",
       "      <td>-0.000383</td>\n",
       "      <td>0.234823</td>\n",
       "    </tr>\n",
       "    <tr>\n",
       "      <th>75</th>\n",
       "      <td>449</td>\n",
       "      <td>0.005587</td>\n",
       "      <td>0.005111</td>\n",
       "      <td>-0.000475</td>\n",
       "      <td>0.227058</td>\n",
       "    </tr>\n",
       "    <tr>\n",
       "      <th>1</th>\n",
       "      <td>1776</td>\n",
       "      <td>0.011655</td>\n",
       "      <td>0.000000</td>\n",
       "      <td>-0.011655</td>\n",
       "      <td>-0.716232</td>\n",
       "    </tr>\n",
       "    <tr>\n",
       "      <th>126</th>\n",
       "      <td>500</td>\n",
       "      <td>0.005173</td>\n",
       "      <td>0.004742</td>\n",
       "      <td>-0.000431</td>\n",
       "      <td>0.230810</td>\n",
       "    </tr>\n",
       "    <tr>\n",
       "      <th>101</th>\n",
       "      <td>475</td>\n",
       "      <td>0.008342</td>\n",
       "      <td>0.008159</td>\n",
       "      <td>-0.000184</td>\n",
       "      <td>0.251668</td>\n",
       "    </tr>\n",
       "  </tbody>\n",
       "</table>\n",
       "</div>"
      ],
      "text/plain": [
       "     base  entropy15april  entropy17april      diff    zscore\n",
       "20    394        0.007665        0.007281 -0.000383  0.234823\n",
       "75    449        0.005587        0.005111 -0.000475  0.227058\n",
       "1    1776        0.011655        0.000000 -0.011655 -0.716232\n",
       "126   500        0.005173        0.004742 -0.000431  0.230810\n",
       "101   475        0.008342        0.008159 -0.000184  0.251668"
      ]
     },
     "execution_count": 56,
     "metadata": {},
     "output_type": "execute_result"
    }
   ],
   "source": [
    "entropy.sample(5)"
   ]
  },
  {
   "cell_type": "code",
   "execution_count": 57,
   "metadata": {},
   "outputs": [
    {
     "data": {
      "text/plain": [
       "<matplotlib.axes._subplots.AxesSubplot at 0x7fa64cc7aa20>"
      ]
     },
     "execution_count": 57,
     "metadata": {},
     "output_type": "execute_result"
    },
    {
     "data": {
      "image/png": "[encoded data removed]",
      "text/plain": [
       "<matplotlib.figure.Figure at 0x7fa64cc7c1d0>"
      ]
     },
     "metadata": {},
     "output_type": "display_data"
    }
   ],
   "source": [
    "sns.distplot(entropy[\"zscore\"])"
   ]
  },
  {
   "cell_type": "code",
   "execution_count": 59,
   "metadata": {},
   "outputs": [],
   "source": [
    "galo = cosine.merge(dtw,on=\"GeoId\",how=\"inner\")"
   ]
  },
  {
   "cell_type": "code",
   "execution_count": 64,
   "metadata": {},
   "outputs": [],
   "source": [
    "mabe = days.merge(hours, on=\"GeoId\", how =\"inner\")"
   ]
  },
  {
   "cell_type": "code",
   "execution_count": 67,
   "metadata": {},
   "outputs": [],
   "source": [
    "oreo = galo.merge(mabe, on=\"GeoId\", how =\"inner\")"
   ]
  },
  {
   "cell_type": "code",
   "execution_count": 68,
   "metadata": {},
   "outputs": [],
   "source": [
    "df = oreo.merge(entropy, left_on = \"GeoId\",right_on=\"base\",how=\"inner\")"
   ]
  },
  {
   "cell_type": "code",
   "execution_count": 69,
   "metadata": {},
   "outputs": [
    {
     "data": {
      "text/html": [
       "<div>\n",
       "<style>\n",
       "    .dataframe thead tr:only-child th {\n",
       "        text-align: right;\n",
       "    }\n",
       "\n",
       "    .dataframe thead th {\n",
       "        text-align: left;\n",
       "    }\n",
       "\n",
       "    .dataframe tbody tr th {\n",
       "        vertical-align: top;\n",
       "    }\n",
       "</style>\n",
       "<table border=\"1\" class=\"dataframe\">\n",
       "  <thead>\n",
       "    <tr style=\"text-align: right;\">\n",
       "      <th></th>\n",
       "      <th>GeoId</th>\n",
       "      <th>cosine_similarity</th>\n",
       "      <th>dtw</th>\n",
       "      <th>freq_sub</th>\n",
       "      <th>0</th>\n",
       "      <th>1</th>\n",
       "      <th>2</th>\n",
       "      <th>3</th>\n",
       "      <th>4</th>\n",
       "      <th>5</th>\n",
       "      <th>...</th>\n",
       "      <th>19</th>\n",
       "      <th>20</th>\n",
       "      <th>21</th>\n",
       "      <th>22</th>\n",
       "      <th>23</th>\n",
       "      <th>base</th>\n",
       "      <th>entropy15april</th>\n",
       "      <th>entropy17april</th>\n",
       "      <th>diff</th>\n",
       "      <th>zscore</th>\n",
       "    </tr>\n",
       "  </thead>\n",
       "  <tbody>\n",
       "    <tr>\n",
       "      <th>count</th>\n",
       "      <td>139.000000</td>\n",
       "      <td>139.000000</td>\n",
       "      <td>139.000000</td>\n",
       "      <td>139.000000</td>\n",
       "      <td>139.000000</td>\n",
       "      <td>139.000000</td>\n",
       "      <td>139.000000</td>\n",
       "      <td>139.000000</td>\n",
       "      <td>139.000000</td>\n",
       "      <td>139.000000</td>\n",
       "      <td>...</td>\n",
       "      <td>139.000000</td>\n",
       "      <td>139.000000</td>\n",
       "      <td>139.000000</td>\n",
       "      <td>139.000000</td>\n",
       "      <td>139.000000</td>\n",
       "      <td>139.000000</td>\n",
       "      <td>139.000000</td>\n",
       "      <td>139.000000</td>\n",
       "      <td>139.000000</td>\n",
       "      <td>1.390000e+02</td>\n",
       "    </tr>\n",
       "    <tr>\n",
       "      <th>mean</th>\n",
       "      <td>479.741007</td>\n",
       "      <td>0.497840</td>\n",
       "      <td>2097.579502</td>\n",
       "      <td>8290.719424</td>\n",
       "      <td>141.086331</td>\n",
       "      <td>84.474820</td>\n",
       "      <td>47.899281</td>\n",
       "      <td>83.604317</td>\n",
       "      <td>94.158273</td>\n",
       "      <td>118.043165</td>\n",
       "      <td>...</td>\n",
       "      <td>381.064748</td>\n",
       "      <td>346.395683</td>\n",
       "      <td>318.136691</td>\n",
       "      <td>287.122302</td>\n",
       "      <td>243.194245</td>\n",
       "      <td>479.741007</td>\n",
       "      <td>0.010077</td>\n",
       "      <td>0.006910</td>\n",
       "      <td>-0.003166</td>\n",
       "      <td>-1.916932e-17</td>\n",
       "    </tr>\n",
       "    <tr>\n",
       "      <th>std</th>\n",
       "      <td>208.226129</td>\n",
       "      <td>0.375710</td>\n",
       "      <td>2157.134740</td>\n",
       "      <td>12430.117582</td>\n",
       "      <td>336.795394</td>\n",
       "      <td>229.816446</td>\n",
       "      <td>203.539701</td>\n",
       "      <td>182.994916</td>\n",
       "      <td>172.849908</td>\n",
       "      <td>186.025823</td>\n",
       "      <td>...</td>\n",
       "      <td>656.995888</td>\n",
       "      <td>609.281884</td>\n",
       "      <td>550.666687</td>\n",
       "      <td>480.304515</td>\n",
       "      <td>391.495236</td>\n",
       "      <td>208.226129</td>\n",
       "      <td>0.011000</td>\n",
       "      <td>0.006802</td>\n",
       "      <td>0.011895</td>\n",
       "      <td>1.003617e+00</td>\n",
       "    </tr>\n",
       "    <tr>\n",
       "      <th>min</th>\n",
       "      <td>377.000000</td>\n",
       "      <td>0.000000</td>\n",
       "      <td>1.414214</td>\n",
       "      <td>-23065.000000</td>\n",
       "      <td>-865.000000</td>\n",
       "      <td>-672.000000</td>\n",
       "      <td>-612.000000</td>\n",
       "      <td>-497.000000</td>\n",
       "      <td>-447.000000</td>\n",
       "      <td>-438.000000</td>\n",
       "      <td>...</td>\n",
       "      <td>-1196.000000</td>\n",
       "      <td>-1119.000000</td>\n",
       "      <td>-998.000000</td>\n",
       "      <td>-866.000000</td>\n",
       "      <td>-711.000000</td>\n",
       "      <td>377.000000</td>\n",
       "      <td>0.000000</td>\n",
       "      <td>0.000000</td>\n",
       "      <td>-0.108104</td>\n",
       "      <td>-8.854022e+00</td>\n",
       "    </tr>\n",
       "    <tr>\n",
       "      <th>25%</th>\n",
       "      <td>411.500000</td>\n",
       "      <td>0.124833</td>\n",
       "      <td>443.336620</td>\n",
       "      <td>1020.500000</td>\n",
       "      <td>7.000000</td>\n",
       "      <td>9.000000</td>\n",
       "      <td>0.000000</td>\n",
       "      <td>8.500000</td>\n",
       "      <td>10.000000</td>\n",
       "      <td>14.500000</td>\n",
       "      <td>...</td>\n",
       "      <td>25.000000</td>\n",
       "      <td>19.000000</td>\n",
       "      <td>31.500000</td>\n",
       "      <td>32.000000</td>\n",
       "      <td>29.000000</td>\n",
       "      <td>411.500000</td>\n",
       "      <td>0.005938</td>\n",
       "      <td>0.004899</td>\n",
       "      <td>-0.000670</td>\n",
       "      <td>2.105922e-01</td>\n",
       "    </tr>\n",
       "    <tr>\n",
       "      <th>50%</th>\n",
       "      <td>446.000000</td>\n",
       "      <td>0.506120</td>\n",
       "      <td>1520.175319</td>\n",
       "      <td>5637.000000</td>\n",
       "      <td>96.000000</td>\n",
       "      <td>67.000000</td>\n",
       "      <td>36.000000</td>\n",
       "      <td>58.000000</td>\n",
       "      <td>68.000000</td>\n",
       "      <td>84.000000</td>\n",
       "      <td>...</td>\n",
       "      <td>190.000000</td>\n",
       "      <td>170.000000</td>\n",
       "      <td>163.000000</td>\n",
       "      <td>169.000000</td>\n",
       "      <td>150.000000</td>\n",
       "      <td>446.000000</td>\n",
       "      <td>0.007108</td>\n",
       "      <td>0.005757</td>\n",
       "      <td>-0.000461</td>\n",
       "      <td>2.282902e-01</td>\n",
       "    </tr>\n",
       "    <tr>\n",
       "      <th>75%</th>\n",
       "      <td>480.500000</td>\n",
       "      <td>0.936741</td>\n",
       "      <td>2936.717489</td>\n",
       "      <td>13958.500000</td>\n",
       "      <td>255.500000</td>\n",
       "      <td>185.000000</td>\n",
       "      <td>137.000000</td>\n",
       "      <td>177.000000</td>\n",
       "      <td>178.000000</td>\n",
       "      <td>216.000000</td>\n",
       "      <td>...</td>\n",
       "      <td>705.000000</td>\n",
       "      <td>658.500000</td>\n",
       "      <td>589.500000</td>\n",
       "      <td>518.000000</td>\n",
       "      <td>420.000000</td>\n",
       "      <td>480.500000</td>\n",
       "      <td>0.009225</td>\n",
       "      <td>0.008024</td>\n",
       "      <td>-0.000356</td>\n",
       "      <td>2.370922e-01</td>\n",
       "    </tr>\n",
       "    <tr>\n",
       "      <th>max</th>\n",
       "      <td>1804.000000</td>\n",
       "      <td>0.993300</td>\n",
       "      <td>11157.846701</td>\n",
       "      <td>50675.000000</td>\n",
       "      <td>1746.000000</td>\n",
       "      <td>864.000000</td>\n",
       "      <td>642.000000</td>\n",
       "      <td>738.000000</td>\n",
       "      <td>713.000000</td>\n",
       "      <td>794.000000</td>\n",
       "      <td>...</td>\n",
       "      <td>2652.000000</td>\n",
       "      <td>2423.000000</td>\n",
       "      <td>2201.000000</td>\n",
       "      <td>2127.000000</td>\n",
       "      <td>1981.000000</td>\n",
       "      <td>1804.000000</td>\n",
       "      <td>0.108104</td>\n",
       "      <td>0.040504</td>\n",
       "      <td>0.036004</td>\n",
       "      <td>3.304943e+00</td>\n",
       "    </tr>\n",
       "  </tbody>\n",
       "</table>\n",
       "<p>8 rows × 33 columns</p>\n",
       "</div>"
      ],
      "text/plain": [
       "             GeoId  cosine_similarity           dtw      freq_sub  \\\n",
       "count   139.000000         139.000000    139.000000    139.000000   \n",
       "mean    479.741007           0.497840   2097.579502   8290.719424   \n",
       "std     208.226129           0.375710   2157.134740  12430.117582   \n",
       "min     377.000000           0.000000      1.414214 -23065.000000   \n",
       "25%     411.500000           0.124833    443.336620   1020.500000   \n",
       "50%     446.000000           0.506120   1520.175319   5637.000000   \n",
       "75%     480.500000           0.936741   2936.717489  13958.500000   \n",
       "max    1804.000000           0.993300  11157.846701  50675.000000   \n",
       "\n",
       "                 0           1           2           3           4  \\\n",
       "count   139.000000  139.000000  139.000000  139.000000  139.000000   \n",
       "mean    141.086331   84.474820   47.899281   83.604317   94.158273   \n",
       "std     336.795394  229.816446  203.539701  182.994916  172.849908   \n",
       "min    -865.000000 -672.000000 -612.000000 -497.000000 -447.000000   \n",
       "25%       7.000000    9.000000    0.000000    8.500000   10.000000   \n",
       "50%      96.000000   67.000000   36.000000   58.000000   68.000000   \n",
       "75%     255.500000  185.000000  137.000000  177.000000  178.000000   \n",
       "max    1746.000000  864.000000  642.000000  738.000000  713.000000   \n",
       "\n",
       "                5      ...                19           20           21  \\\n",
       "count  139.000000      ...        139.000000   139.000000   139.000000   \n",
       "mean   118.043165      ...        381.064748   346.395683   318.136691   \n",
       "std    186.025823      ...        656.995888   609.281884   550.666687   \n",
       "min   -438.000000      ...      -1196.000000 -1119.000000  -998.000000   \n",
       "25%     14.500000      ...         25.000000    19.000000    31.500000   \n",
       "50%     84.000000      ...        190.000000   170.000000   163.000000   \n",
       "75%    216.000000      ...        705.000000   658.500000   589.500000   \n",
       "max    794.000000      ...       2652.000000  2423.000000  2201.000000   \n",
       "\n",
       "                22           23         base  entropy15april  entropy17april  \\\n",
       "count   139.000000   139.000000   139.000000      139.000000      139.000000   \n",
       "mean    287.122302   243.194245   479.741007        0.010077        0.006910   \n",
       "std     480.304515   391.495236   208.226129        0.011000        0.006802   \n",
       "min    -866.000000  -711.000000   377.000000        0.000000        0.000000   \n",
       "25%      32.000000    29.000000   411.500000        0.005938        0.004899   \n",
       "50%     169.000000   150.000000   446.000000        0.007108        0.005757   \n",
       "75%     518.000000   420.000000   480.500000        0.009225        0.008024   \n",
       "max    2127.000000  1981.000000  1804.000000        0.108104        0.040504   \n",
       "\n",
       "             diff        zscore  \n",
       "count  139.000000  1.390000e+02  \n",
       "mean    -0.003166 -1.916932e-17  \n",
       "std      0.011895  1.003617e+00  \n",
       "min     -0.108104 -8.854022e+00  \n",
       "25%     -0.000670  2.105922e-01  \n",
       "50%     -0.000461  2.282902e-01  \n",
       "75%     -0.000356  2.370922e-01  \n",
       "max      0.036004  3.304943e+00  \n",
       "\n",
       "[8 rows x 33 columns]"
      ]
     },
     "execution_count": 69,
     "metadata": {},
     "output_type": "execute_result"
    }
   ],
   "source": [
    "df.describe()"
   ]
  },
  {
   "cell_type": "code",
   "execution_count": 70,
   "metadata": {},
   "outputs": [
    {
     "data": {
      "text/plain": [
       "<matplotlib.axes._subplots.AxesSubplot at 0x7fa64c543b70>"
      ]
     },
     "execution_count": 70,
     "metadata": {},
     "output_type": "execute_result"
    },
    {
     "data": {
      "image/png": "[encoded data removed]",
      "text/plain": [
       "<matplotlib.figure.Figure at 0x7fa64ceb8dd8>"
      ]
     },
     "metadata": {},
     "output_type": "display_data"
    }
   ],
   "source": [
    "import numpy as np\n",
    "import matplotlib.pyplot as plt\n",
    "sns.set(style=\"white\")\n",
    "\n",
    "corr = df.corr()\n",
    "# Generate a mask for the upper triangle\n",
    "mask = np.zeros_like(corr, dtype=np.bool)\n",
    "mask[np.triu_indices_from(mask)] = True\n",
    "\n",
    "# Set up the matplotlib figure\n",
    "f, ax = plt.subplots(figsize=(11, 9))\n",
    "\n",
    "# Generate a custom diverging colormap\n",
    "cmap = sns.diverging_palette(400, 5, as_cmap=True)\n",
    "\n",
    "# Draw the heatmap with the mask and correct aspect ratio\n",
    "sns.heatmap(corr, mask=mask, cmap=\"RdBu\", vmax=1, center=0,\n",
    "            square=True, linewidths=.5, cbar_kws={\"shrink\": .7})"
   ]
  }
 ],
 "metadata": {
  "kernelspec": {
   "display_name": "Python 3",
   "language": "python",
   "name": "python3"
  },
  "language_info": {
   "codemirror_mode": {
    "name": "ipython",
    "version": 3
   },
   "file_extension": ".py",
   "mimetype": "text/x-python",
   "name": "python",
   "nbconvert_exporter": "python",
   "pygments_lexer": "ipython3",
   "version": "3.5.2"
  }
 },
 "nbformat": 4,
 "nbformat_minor": 2
}
