{
 "cells": [
  {
   "cell_type": "code",
   "execution_count": 16,
   "metadata": {},
   "outputs": [],
   "source": [
    "import pandas as pd"
   ]
  },
  {
   "cell_type": "code",
   "execution_count": 17,
   "metadata": {},
   "outputs": [],
   "source": [
    "df_eventos = pd.read_csv(\"../data/eventos.csv\", encoding = \"ISO-8859-1\")"
   ]
  },
  {
   "cell_type": "code",
   "execution_count": 18,
   "metadata": {},
   "outputs": [],
   "source": [
    "df_parroquias = df_eventos[[\"GeoIdEvento\",\"ParroquiaEvento\",\"ParroquiaCliente\",\"GeoIdCliente\",\"ProvinciaCliente\",\"ProvinciaEvento\"]]\n",
    "parroquias_evento = df_parroquias[[\"GeoIdEvento\",\"ParroquiaEvento\", \"ProvinciaEvento\"]].drop_duplicates().reset_index()\n",
    "parroquias_cliente = df_parroquias[[\"ParroquiaCliente\",\"GeoIdCliente\", \"ProvinciaCliente\"]].drop_duplicates().reset_index()"
   ]
  },
  {
   "cell_type": "code",
   "execution_count": 19,
   "metadata": {},
   "outputs": [],
   "source": [
    "#dejar solo las que son de manabi\n",
    "parroquias_evento = parroquias_evento.loc[parroquias_evento[\"ProvinciaEvento\"]==\"MANABI\"]\n",
    "parroquias_evento = parroquias_evento.drop(\"ProvinciaEvento\", axis=1)\n",
    "parroquias_evento = parroquias_evento.drop(\"index\", axis=1)\n",
    "parroquias_cliente = parroquias_cliente.loc[parroquias_cliente[\"ProvinciaCliente\"]==\"MANABI\"]\n",
    "parroquias_cliente = parroquias_cliente.drop(\"ProvinciaCliente\", axis=1)\n",
    "parroquias_cliente = parroquias_cliente.drop(\"index\", axis=1)\n"
   ]
  },
  {
   "cell_type": "code",
   "execution_count": 20,
   "metadata": {},
   "outputs": [
    {
     "name": "stderr",
     "output_type": "stream",
     "text": [
      "/home/belen/.local/lib/python3.6/site-packages/ipykernel_launcher.py:5: FutureWarning: Sorting because non-concatenation axis is not aligned. A future version\n",
      "of pandas will change to not sort by default.\n",
      "\n",
      "To accept the future behavior, pass 'sort=False'.\n",
      "\n",
      "To retain the current behavior and silence the warning, pass 'sort=True'.\n",
      "\n",
      "  \"\"\"\n"
     ]
    }
   ],
   "source": [
    "#Hay que renombrar las columnas para luego poder concatenar\n",
    "parroquias_evento = parroquias_evento.rename(columns={\"GeoIdEvento\":\"GeoId\",\"ParroquiaEvento\": \"Parroquia\"})\n",
    "parroquias_cliente = parroquias_cliente.rename(columns={\"GeoIdCliente\":\"GeoId\",\"ParroquiaCliente\": \"Parroquia\"})\n",
    "\n",
    "parroquias = pd.concat([parroquias_evento,parroquias_cliente])\n",
    "#Finalmente podemos unificar y lograr un dataframe con todas las parroquias y los geoids\n",
    "parroquias = parroquias[\"Parroquia\"].drop_duplicates()\n",
    "parroquias.to_csv(\"parroquias_manabi.txt\",index=False)"
   ]
  },
  {
   "cell_type": "code",
   "execution_count": null,
   "metadata": {},
   "outputs": [],
   "source": []
  },
  {
   "cell_type": "code",
   "execution_count": null,
   "metadata": {},
   "outputs": [],
   "source": []
  }
 ],
 "metadata": {
  "kernelspec": {
   "display_name": "Python 3",
   "language": "python",
   "name": "python3"
  },
  "language_info": {
   "codemirror_mode": {
    "name": "ipython",
    "version": 3
   },
   "file_extension": ".py",
   "mimetype": "text/x-python",
   "name": "python",
   "nbconvert_exporter": "python",
   "pygments_lexer": "ipython3",
   "version": "3.6.7"
  }
 },
 "nbformat": 4,
 "nbformat_minor": 2
}
