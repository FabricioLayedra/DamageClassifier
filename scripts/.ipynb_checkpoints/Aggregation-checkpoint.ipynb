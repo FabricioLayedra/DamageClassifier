{
 "cells": [
  {
   "cell_type": "code",
   "execution_count": 85,
   "metadata": {},
   "outputs": [],
   "source": [
    "#!/usr/bin/env python\n",
    "# coding: utf-8\n",
    "\n",
    "\n",
    "import pandas as pd\n",
    "import numpy as np\n",
    "def read_dataset(file):\n",
    "    col_dtypes = {'BaseCliente': 'uint16','BaseEvento': 'uint16','CantidadClientes': 'uint8','CantonCliente': 'category','CantonEvento': 'category',\n",
    "        'CiudadCliente': 'category',\n",
    "        'CiudadEvento': 'category',\n",
    "        'Hora': 'uint8',\n",
    "        'ID': 'uint32',\n",
    "        'LatitudCliente': 'float64',\n",
    "        'LatitudEvento': 'float64',\n",
    "        'LongitudCliente': 'float64',\n",
    "        'LongitudEvento': 'float64',\n",
    "        'NombreSitioEvento': 'category',\n",
    "        'ParroquiaCliente': 'category',\n",
    "        'ParroquiaEvento': 'category',\n",
    "        'ProvinciaCliente': 'category',\n",
    "        'ProvinciaEvento': 'category'}\n",
    "\n",
    "    df_eventos = pd.read_csv(file, encoding = \"ISO-8859-1\", dtype=col_dtypes, parse_dates=['FechaEvento'], infer_datetime_format=True)\n",
    "    return df_eventos"
   ]
  },
  {
   "cell_type": "code",
   "execution_count": 107,
   "metadata": {},
   "outputs": [],
   "source": [
    "def distanciaGeografica(dataframe):\n",
    "\n",
    "    try:\n",
    "        lat1 = float(dataframe[\"LatitudCliente\"])\n",
    "        lat2 = float(dataframe[\"LatitudEvento\"])\n",
    "        long1 = float(dataframe[\"LongitudCliente\"])\n",
    "        long2 = float(dataframe[\"LongitudEvento\"])\n",
    "        r = 6371\n",
    "        c = math.pi/180\n",
    "\n",
    "        d= 2*r*math.asin(math.sqrt(math.sin(c*(lat2-lat1)/2)**2 + math.cos(c*lat1) * math.cos(c*lat2) * math.sin(c*(long2-long1)/2)**2))\n",
    "        return round(d,2)\n",
    "    except:\n",
    "        pass\n",
    "\n",
    "\n",
    "def getEntropy(dataset,event_col,home_col,output,file):\n",
    "    eventos=set(dataset[event_col])\n",
    "    homes=set(dataset[home_col])\n",
    "    \n",
    "    frecuencias = dict()\n",
    "\n",
    "    eventos = list(eventos)\n",
    "\n",
    "    for evento in  eventos:\n",
    "        frecuencias[evento]= np.zeros(len(homes)) \n",
    "    \n",
    "    #print (frecuencias.keys())\n",
    "    homes = list(homes)\n",
    "    #print(homes)\n",
    "\n",
    "    f = open (file)\n",
    "    f.readline()\n",
    "    for line in f:\n",
    "        line = line.strip()\n",
    "        values = line.split(\",\")\n",
    "        try:\n",
    "            frecuencias[int(values[-1])][homes.index(int(values[-2]))]+= 1\n",
    "        except: \n",
    "            pass\n",
    "    f.close()\n",
    "\n",
    "    entropias = {}\n",
    "\n",
    "    for base in frecuencias: \n",
    "        probs = frecuencias[base]/frecuencias[base].sum()\n",
    "        #preguntar\n",
    "        probs = probs[probs>0]\n",
    "        shannon = probs * - np.log(probs)\n",
    "        entropia = shannon.sum()/len(probs)\n",
    "        #if(entropia!=0.0):\n",
    "            #print(base)\n",
    "            #entropias[base] = entropia\n",
    "        entropias[base] = entropia\n",
    "\n",
    "    f2 = open(output, 'w')\n",
    "    f2.write('base,enthropy\\n')\n",
    "    for entropy in entropias:\n",
    "        f2.write(str(entropy)+\",\"+str(entropias[entropy])+\"\\n\")\n",
    "    f2.close()"
   ]
  },
  {
   "cell_type": "code",
   "execution_count": 3,
   "metadata": {},
   "outputs": [],
   "source": [
    "df = pd.read_csv(\"../DataComprimida/EventosManabi.csv\")"
   ]
  },
  {
   "cell_type": "code",
   "execution_count": null,
   "metadata": {},
   "outputs": [],
   "source": [
    "del df[\"BaseEvento\"]\n",
    "del df[\"BaseCliente\"]\n",
    "del dataset[\"ID\"]"
   ]
  },
  {
   "cell_type": "code",
   "execution_count": 47,
   "metadata": {},
   "outputs": [],
   "source": [
    "dataset = df.groupby([\"FechaEvento\",\"Hora\",\"ProvinciaCliente\",\"CantonCliente\",\"CiudadCliente\",\"ParroquiaCliente\",\"LatitudCliente\",\"LongitudCliente\",\"NombreSitioEvento\",\"ProvinciaEvento\",\"CantonEvento\",\"CiudadEvento\",\"ParroquiaEvento\",\"LatitudEvento\",\"LongitudEvento\"]).sum().reset_index()"
   ]
  },
  {
   "cell_type": "code",
   "execution_count": 6,
   "metadata": {},
   "outputs": [],
   "source": [
    "dataset.to_csv(\"events_filtered.csv\",index=False)"
   ]
  },
  {
   "cell_type": "code",
   "execution_count": 48,
   "metadata": {},
   "outputs": [],
   "source": [
    "cliente = dataset[[\"LatitudCliente\",\"LongitudCliente\"]].rename(columns={\"LatitudCliente\":\"lat\",\"LongitudCliente\":\"lon\"})\n",
    "evento = dataset[[\"LatitudEvento\",\"LongitudEvento\"]].rename(columns={\"LatitudEvento\":\"lat\",\"LongitudEvento\":\"lon\"})"
   ]
  },
  {
   "cell_type": "code",
   "execution_count": 49,
   "metadata": {},
   "outputs": [],
   "source": [
    "points = pd.concat([cliente,evento])"
   ]
  },
  {
   "cell_type": "code",
   "execution_count": 50,
   "metadata": {},
   "outputs": [],
   "source": [
    "points2 = points.drop_duplicates().reset_index()"
   ]
  },
  {
   "cell_type": "code",
   "execution_count": 54,
   "metadata": {},
   "outputs": [],
   "source": [
    "del(points2[\"index\"])\n",
    "points2[\"GEO_ID\"] = points2.index + 1"
   ]
  },
  {
   "cell_type": "code",
   "execution_count": 55,
   "metadata": {},
   "outputs": [
    {
     "data": {
      "text/html": [
       "<div>\n",
       "<style scoped>\n",
       "    .dataframe tbody tr th:only-of-type {\n",
       "        vertical-align: middle;\n",
       "    }\n",
       "\n",
       "    .dataframe tbody tr th {\n",
       "        vertical-align: top;\n",
       "    }\n",
       "\n",
       "    .dataframe thead th {\n",
       "        text-align: right;\n",
       "    }\n",
       "</style>\n",
       "<table border=\"1\" class=\"dataframe\">\n",
       "  <thead>\n",
       "    <tr style=\"text-align: right;\">\n",
       "      <th></th>\n",
       "      <th>lat</th>\n",
       "      <th>lon</th>\n",
       "      <th>GEO_ID</th>\n",
       "    </tr>\n",
       "  </thead>\n",
       "  <tbody>\n",
       "    <tr>\n",
       "      <th>0</th>\n",
       "      <td>-3.05086</td>\n",
       "      <td>-79.7285</td>\n",
       "      <td>1</td>\n",
       "    </tr>\n",
       "    <tr>\n",
       "      <th>1</th>\n",
       "      <td>-2.91442</td>\n",
       "      <td>-79.0560</td>\n",
       "      <td>2</td>\n",
       "    </tr>\n",
       "    <tr>\n",
       "      <th>2</th>\n",
       "      <td>-2.90817</td>\n",
       "      <td>-79.0556</td>\n",
       "      <td>3</td>\n",
       "    </tr>\n",
       "    <tr>\n",
       "      <th>3</th>\n",
       "      <td>-2.91640</td>\n",
       "      <td>-79.0122</td>\n",
       "      <td>4</td>\n",
       "    </tr>\n",
       "    <tr>\n",
       "      <th>4</th>\n",
       "      <td>-2.91583</td>\n",
       "      <td>-79.0121</td>\n",
       "      <td>5</td>\n",
       "    </tr>\n",
       "  </tbody>\n",
       "</table>\n",
       "</div>"
      ],
      "text/plain": [
       "       lat      lon  GEO_ID\n",
       "0 -3.05086 -79.7285       1\n",
       "1 -2.91442 -79.0560       2\n",
       "2 -2.90817 -79.0556       3\n",
       "3 -2.91640 -79.0122       4\n",
       "4 -2.91583 -79.0121       5"
      ]
     },
     "execution_count": 55,
     "metadata": {},
     "output_type": "execute_result"
    }
   ],
   "source": [
    "points2.head()"
   ]
  },
  {
   "cell_type": "code",
   "execution_count": 56,
   "metadata": {},
   "outputs": [],
   "source": [
    "new_df = pd.merge(dataset, points2,  how='left', left_on=[\"LatitudCliente\",\"LongitudCliente\"], right_on = ['lat','lon'])"
   ]
  },
  {
   "cell_type": "code",
   "execution_count": 57,
   "metadata": {},
   "outputs": [],
   "source": [
    "new_df = pd.merge(new_df, points2,  how='left', left_on=[\"LatitudEvento\",\"LongitudEvento\"], right_on = ['lat','lon'])"
   ]
  },
  {
   "cell_type": "code",
   "execution_count": 59,
   "metadata": {},
   "outputs": [],
   "source": [
    "del new_df[\"lat_x\"]\n",
    "del new_df[\"lon_x\"]\n",
    "del new_df[\"lat_y\"]\n",
    "del new_df[\"lon_y\"]"
   ]
  },
  {
   "cell_type": "code",
   "execution_count": 61,
   "metadata": {},
   "outputs": [],
   "source": [
    "new_df = new_df.rename(columns={\"GEO_ID_x\":\"GeoIdCliente\",\"GEO_ID_y\":\"GeoIdEvento\"})"
   ]
  },
  {
   "cell_type": "code",
   "execution_count": 63,
   "metadata": {},
   "outputs": [],
   "source": [
    "new_df.to_csv(\"eventos.csv\",index=False)"
   ]
  },
  {
   "cell_type": "code",
   "execution_count": 72,
   "metadata": {},
   "outputs": [
    {
     "data": {
      "text/html": [
       "<div>\n",
       "<style scoped>\n",
       "    .dataframe tbody tr th:only-of-type {\n",
       "        vertical-align: middle;\n",
       "    }\n",
       "\n",
       "    .dataframe tbody tr th {\n",
       "        vertical-align: top;\n",
       "    }\n",
       "\n",
       "    .dataframe thead th {\n",
       "        text-align: right;\n",
       "    }\n",
       "</style>\n",
       "<table border=\"1\" class=\"dataframe\">\n",
       "  <thead>\n",
       "    <tr style=\"text-align: right;\">\n",
       "      <th></th>\n",
       "      <th>FechaEvento</th>\n",
       "      <th>Hora</th>\n",
       "      <th>ProvinciaCliente</th>\n",
       "      <th>CantonCliente</th>\n",
       "      <th>CiudadCliente</th>\n",
       "      <th>ParroquiaCliente</th>\n",
       "      <th>LatitudCliente</th>\n",
       "      <th>LongitudCliente</th>\n",
       "      <th>NombreSitioEvento</th>\n",
       "      <th>ProvinciaEvento</th>\n",
       "      <th>...</th>\n",
       "      <th>CiudadEvento</th>\n",
       "      <th>ParroquiaEvento</th>\n",
       "      <th>LatitudEvento</th>\n",
       "      <th>LongitudEvento</th>\n",
       "      <th>ID</th>\n",
       "      <th>BaseCliente</th>\n",
       "      <th>BaseEvento</th>\n",
       "      <th>CantidadClientes</th>\n",
       "      <th>GeoIdCliente</th>\n",
       "      <th>GeoIdEvento</th>\n",
       "    </tr>\n",
       "  </thead>\n",
       "  <tbody>\n",
       "    <tr>\n",
       "      <th>0</th>\n",
       "      <td>2016-04-15</td>\n",
       "      <td>0</td>\n",
       "      <td>AZUAY</td>\n",
       "      <td>CAMILO PONCE ENRIQUEZ</td>\n",
       "      <td>CAMILO PONCE ENRIQUEZ</td>\n",
       "      <td>CAMILO PONCE ENRIQUEZ</td>\n",
       "      <td>-3.05086</td>\n",
       "      <td>-79.7285</td>\n",
       "      <td>BAHIA_CENTRO</td>\n",
       "      <td>MANABI</td>\n",
       "      <td>...</td>\n",
       "      <td>BAHIA DE CARAQUEZ</td>\n",
       "      <td>BAHIA DE CARAQUEZ</td>\n",
       "      <td>-0.605561</td>\n",
       "      <td>-80.4261</td>\n",
       "      <td>1839581</td>\n",
       "      <td>41164</td>\n",
       "      <td>47753</td>\n",
       "      <td>1</td>\n",
       "      <td>1</td>\n",
       "      <td>506</td>\n",
       "    </tr>\n",
       "    <tr>\n",
       "      <th>1</th>\n",
       "      <td>2016-04-15</td>\n",
       "      <td>0</td>\n",
       "      <td>AZUAY</td>\n",
       "      <td>CAMILO PONCE ENRIQUEZ</td>\n",
       "      <td>CAMILO PONCE ENRIQUEZ</td>\n",
       "      <td>CAMILO PONCE ENRIQUEZ</td>\n",
       "      <td>-3.05086</td>\n",
       "      <td>-79.7285</td>\n",
       "      <td>JIPIJAPA</td>\n",
       "      <td>MANABI</td>\n",
       "      <td>...</td>\n",
       "      <td>JIPIJAPA</td>\n",
       "      <td>JIPIJAPA</td>\n",
       "      <td>-1.363020</td>\n",
       "      <td>-80.5583</td>\n",
       "      <td>6030680</td>\n",
       "      <td>82328</td>\n",
       "      <td>101080</td>\n",
       "      <td>2</td>\n",
       "      <td>1</td>\n",
       "      <td>411</td>\n",
       "    </tr>\n",
       "    <tr>\n",
       "      <th>2</th>\n",
       "      <td>2016-04-15</td>\n",
       "      <td>0</td>\n",
       "      <td>AZUAY</td>\n",
       "      <td>CAMILO PONCE ENRIQUEZ</td>\n",
       "      <td>CAMILO PONCE ENRIQUEZ</td>\n",
       "      <td>CAMILO PONCE ENRIQUEZ</td>\n",
       "      <td>-3.05086</td>\n",
       "      <td>-79.7285</td>\n",
       "      <td>JIPIJAPA_CENTRO</td>\n",
       "      <td>MANABI</td>\n",
       "      <td>...</td>\n",
       "      <td>JIPIJAPA</td>\n",
       "      <td>JIPIJAPA</td>\n",
       "      <td>-1.349450</td>\n",
       "      <td>-80.5784</td>\n",
       "      <td>133995</td>\n",
       "      <td>41164</td>\n",
       "      <td>18959</td>\n",
       "      <td>1</td>\n",
       "      <td>1</td>\n",
       "      <td>412</td>\n",
       "    </tr>\n",
       "    <tr>\n",
       "      <th>3</th>\n",
       "      <td>2016-04-15</td>\n",
       "      <td>0</td>\n",
       "      <td>AZUAY</td>\n",
       "      <td>CAMILO PONCE ENRIQUEZ</td>\n",
       "      <td>CAMILO PONCE ENRIQUEZ</td>\n",
       "      <td>CAMILO PONCE ENRIQUEZ</td>\n",
       "      <td>-3.05086</td>\n",
       "      <td>-79.7285</td>\n",
       "      <td>PEDERNALES_PLAYA</td>\n",
       "      <td>MANABI</td>\n",
       "      <td>...</td>\n",
       "      <td>PEDERNALES</td>\n",
       "      <td>PEDERNALES</td>\n",
       "      <td>0.071642</td>\n",
       "      <td>-80.0548</td>\n",
       "      <td>2359025</td>\n",
       "      <td>60776</td>\n",
       "      <td>22159</td>\n",
       "      <td>2</td>\n",
       "      <td>1</td>\n",
       "      <td>468</td>\n",
       "    </tr>\n",
       "    <tr>\n",
       "      <th>4</th>\n",
       "      <td>2016-04-15</td>\n",
       "      <td>0</td>\n",
       "      <td>AZUAY</td>\n",
       "      <td>CAMILO PONCE ENRIQUEZ</td>\n",
       "      <td>CAMILO PONCE ENRIQUEZ</td>\n",
       "      <td>CAMILO PONCE ENRIQUEZ</td>\n",
       "      <td>-3.05086</td>\n",
       "      <td>-79.7285</td>\n",
       "      <td>PORTOVIEJO_SHOPPING</td>\n",
       "      <td>MANABI</td>\n",
       "      <td>...</td>\n",
       "      <td>PORTOVIEJO</td>\n",
       "      <td>PORTOVIEJO</td>\n",
       "      <td>-1.060810</td>\n",
       "      <td>-80.4681</td>\n",
       "      <td>5621824</td>\n",
       "      <td>120492</td>\n",
       "      <td>142268</td>\n",
       "      <td>3</td>\n",
       "      <td>1</td>\n",
       "      <td>479</td>\n",
       "    </tr>\n",
       "  </tbody>\n",
       "</table>\n",
       "<p>5 rows × 21 columns</p>\n",
       "</div>"
      ],
      "text/plain": [
       "  FechaEvento  Hora ProvinciaCliente          CantonCliente  \\\n",
       "0  2016-04-15     0            AZUAY  CAMILO PONCE ENRIQUEZ   \n",
       "1  2016-04-15     0            AZUAY  CAMILO PONCE ENRIQUEZ   \n",
       "2  2016-04-15     0            AZUAY  CAMILO PONCE ENRIQUEZ   \n",
       "3  2016-04-15     0            AZUAY  CAMILO PONCE ENRIQUEZ   \n",
       "4  2016-04-15     0            AZUAY  CAMILO PONCE ENRIQUEZ   \n",
       "\n",
       "           CiudadCliente       ParroquiaCliente  LatitudCliente  \\\n",
       "0  CAMILO PONCE ENRIQUEZ  CAMILO PONCE ENRIQUEZ        -3.05086   \n",
       "1  CAMILO PONCE ENRIQUEZ  CAMILO PONCE ENRIQUEZ        -3.05086   \n",
       "2  CAMILO PONCE ENRIQUEZ  CAMILO PONCE ENRIQUEZ        -3.05086   \n",
       "3  CAMILO PONCE ENRIQUEZ  CAMILO PONCE ENRIQUEZ        -3.05086   \n",
       "4  CAMILO PONCE ENRIQUEZ  CAMILO PONCE ENRIQUEZ        -3.05086   \n",
       "\n",
       "   LongitudCliente    NombreSitioEvento ProvinciaEvento     ...       \\\n",
       "0         -79.7285         BAHIA_CENTRO          MANABI     ...        \n",
       "1         -79.7285             JIPIJAPA          MANABI     ...        \n",
       "2         -79.7285      JIPIJAPA_CENTRO          MANABI     ...        \n",
       "3         -79.7285     PEDERNALES_PLAYA          MANABI     ...        \n",
       "4         -79.7285  PORTOVIEJO_SHOPPING          MANABI     ...        \n",
       "\n",
       "        CiudadEvento    ParroquiaEvento LatitudEvento  LongitudEvento  \\\n",
       "0  BAHIA DE CARAQUEZ  BAHIA DE CARAQUEZ     -0.605561        -80.4261   \n",
       "1           JIPIJAPA           JIPIJAPA     -1.363020        -80.5583   \n",
       "2           JIPIJAPA           JIPIJAPA     -1.349450        -80.5784   \n",
       "3         PEDERNALES         PEDERNALES      0.071642        -80.0548   \n",
       "4         PORTOVIEJO         PORTOVIEJO     -1.060810        -80.4681   \n",
       "\n",
       "        ID  BaseCliente  BaseEvento  CantidadClientes  GeoIdCliente  \\\n",
       "0  1839581        41164       47753                 1             1   \n",
       "1  6030680        82328      101080                 2             1   \n",
       "2   133995        41164       18959                 1             1   \n",
       "3  2359025        60776       22159                 2             1   \n",
       "4  5621824       120492      142268                 3             1   \n",
       "\n",
       "   GeoIdEvento  \n",
       "0          506  \n",
       "1          411  \n",
       "2          412  \n",
       "3          468  \n",
       "4          479  \n",
       "\n",
       "[5 rows x 21 columns]"
      ]
     },
     "execution_count": 72,
     "metadata": {},
     "output_type": "execute_result"
    }
   ],
   "source": [
    "new_df.head()"
   ]
  },
  {
   "cell_type": "code",
   "execution_count": 76,
   "metadata": {},
   "outputs": [],
   "source": [
    "april15 = new_df[new_df[\"FechaEvento\"]==\"2016-04-15\"]\n",
    "april16 = new_df[new_df[\"FechaEvento\"]==\"2016-04-16\"]\n",
    "april17 = new_df[new_df[\"FechaEvento\"]==\"2016-04-17\"]"
   ]
  },
  {
   "cell_type": "code",
   "execution_count": 108,
   "metadata": {},
   "outputs": [],
   "source": [
    "getEntropy(april15,\"GeoIdEvento\",\"GeoIdCliente\",\"entropy_15.csv\",\"eventos.csv\")\n",
    "entropy15 = pd.read_csv(\"entropy_15.csv\")"
   ]
  },
  {
   "cell_type": "code",
   "execution_count": 114,
   "metadata": {},
   "outputs": [
    {
     "data": {
      "text/plain": [
       "137"
      ]
     },
     "execution_count": 114,
     "metadata": {},
     "output_type": "execute_result"
    }
   ],
   "source": [
    "len(entropy15)"
   ]
  },
  {
   "cell_type": "code",
   "execution_count": 113,
   "metadata": {},
   "outputs": [],
   "source": [
    "getEntropy(april16,\"GeoIdEvento\",\"GeoIdCliente\",\"entropy_16.csv\",\"eventos.csv\")\n",
    "entropy16 = pd.read_csv(\"entropy_16.csv\")"
   ]
  },
  {
   "cell_type": "code",
   "execution_count": 115,
   "metadata": {},
   "outputs": [
    {
     "data": {
      "text/plain": [
       "141"
      ]
     },
     "execution_count": 115,
     "metadata": {},
     "output_type": "execute_result"
    }
   ],
   "source": [
    "len(entropy16)"
   ]
  },
  {
   "cell_type": "code",
   "execution_count": 117,
   "metadata": {},
   "outputs": [],
   "source": [
    "getEntropy(april17,\"GeoIdEvento\",\"GeoIdCliente\",\"entropy_17.csv\",\"eventos.csv\")\n",
    "entropy17 = pd.read_csv(\"entropy_17.csv\")"
   ]
  },
  {
   "cell_type": "code",
   "execution_count": 118,
   "metadata": {},
   "outputs": [
    {
     "data": {
      "text/plain": [
       "109"
      ]
     },
     "execution_count": 118,
     "metadata": {},
     "output_type": "execute_result"
    }
   ],
   "source": [
    "len(entropy17)"
   ]
  },
  {
   "cell_type": "code",
   "execution_count": 122,
   "metadata": {},
   "outputs": [],
   "source": [
    "entropy = entropy15.merge(entropy17,on=\"base\",how=\"outer\").fillna(0)"
   ]
  },
  {
   "cell_type": "code",
   "execution_count": 125,
   "metadata": {},
   "outputs": [],
   "source": [
    "entropy[\"diff\"]=entropy[\"enthropy_y\"] - entropy[\"enthropy_x\"]"
   ]
  },
  {
   "cell_type": "code",
   "execution_count": 129,
   "metadata": {},
   "outputs": [],
   "source": [
    "import seaborn as sns\n",
    "from scipy import stats"
   ]
  },
  {
   "cell_type": "code",
   "execution_count": 131,
   "metadata": {},
   "outputs": [
    {
     "name": "stderr",
     "output_type": "stream",
     "text": [
      "C:\\ProgramData\\Anaconda3\\lib\\site-packages\\matplotlib\\axes\\_axes.py:6462: UserWarning: The 'normed' kwarg is deprecated, and has been replaced by the 'density' kwarg.\n",
      "  warnings.warn(\"The 'normed' kwarg is deprecated, and has been \"\n"
     ]
    },
    {
     "data": {
      "image/png": "[encoded data removed]",
      "text/plain": [
       "<Figure size 432x288 with 1 Axes>"
      ]
     },
     "metadata": {
      "needs_background": "light"
     },
     "output_type": "display_data"
    }
   ],
   "source": [
    "sns.distplot(stats.zscore(entropy[\"diff\"]))\n",
    "plt.show()"
   ]
  },
  {
   "cell_type": "code",
   "execution_count": 133,
   "metadata": {},
   "outputs": [],
   "source": [
    "entropy = entropy.rename(columns={\"enthropy_x\":\"entropy15april\",\"enthropy_y\":\"entropy17april\"}) "
   ]
  },
  {
   "cell_type": "code",
   "execution_count": 135,
   "metadata": {},
   "outputs": [],
   "source": [
    "entropy[\"zscore\"] = stats.zscore(entropy[\"diff\"])"
   ]
  },
  {
   "cell_type": "code",
   "execution_count": 137,
   "metadata": {},
   "outputs": [],
   "source": [
    "entropy.to_csv(\"entropy.csv\",index=False)"
   ]
  }
 ],
 "metadata": {
  "kernelspec": {
   "display_name": "Python 3",
   "language": "python",
   "name": "python3"
  },
  "language_info": {
   "codemirror_mode": {
    "name": "ipython",
    "version": 3
   },
   "file_extension": ".py",
   "mimetype": "text/x-python",
   "name": "python",
   "nbconvert_exporter": "python",
   "pygments_lexer": "ipython3",
   "version": "3.5.2"
  }
 },
 "nbformat": 4,
 "nbformat_minor": 2
}
